{
  "nbformat": 4,
  "nbformat_minor": 0,
  "metadata": {
    "colab": {
      "provenance": [],
      "authorship_tag": "ABX9TyO/INnxcYzfGipQR5wfk5Ds",
      "include_colab_link": true
    },
    "kernelspec": {
      "name": "python3",
      "display_name": "Python 3"
    },
    "language_info": {
      "name": "python"
    }
  },
  "cells": [
    {
      "cell_type": "markdown",
      "metadata": {
        "id": "view-in-github",
        "colab_type": "text"
      },
      "source": [
        "<a href=\"https://colab.research.google.com/github/rihemmaarefe/NumpySummary/blob/main/NumpySummary.ipynb\" target=\"_parent\"><img src=\"https://colab.research.google.com/assets/colab-badge.svg\" alt=\"Open In Colab\"/></a>"
      ]
    },
    {
      "cell_type": "markdown",
      "source": [
        "# Installing and import"
      ],
      "metadata": {
        "id": "vOV17Ob5lran"
      }
    },
    {
      "cell_type": "code",
      "execution_count": 1,
      "metadata": {
        "colab": {
          "base_uri": "https://localhost:8080/"
        },
        "id": "EZ_doB0DjWdP",
        "outputId": "913a4125-2ef1-4b80-a588-029f2fd868fc"
      },
      "outputs": [
        {
          "output_type": "stream",
          "name": "stdout",
          "text": [
            "Looking in indexes: https://pypi.org/simple, https://us-python.pkg.dev/colab-wheels/public/simple/\n",
            "Requirement already satisfied: pip in /usr/local/lib/python3.8/dist-packages (22.0.4)\n",
            "Collecting pip\n",
            "  Downloading pip-23.0.1-py3-none-any.whl (2.1 MB)\n",
            "\u001b[2K     \u001b[90m━━━━━━━━━━━━━━━━━━━━━━━━━━━━━━━━━━━━━━━━\u001b[0m \u001b[32m2.1/2.1 MB\u001b[0m \u001b[31m22.3 MB/s\u001b[0m eta \u001b[36m0:00:00\u001b[0m\n",
            "\u001b[?25hInstalling collected packages: pip\n",
            "  Attempting uninstall: pip\n",
            "    Found existing installation: pip 22.0.4\n",
            "    Uninstalling pip-22.0.4:\n",
            "      Successfully uninstalled pip-22.0.4\n",
            "Successfully installed pip-23.0.1\n"
          ]
        }
      ],
      "source": [
        "!pip install --upgrade pip"
      ]
    },
    {
      "cell_type": "code",
      "source": [
        "!pip install numpy"
      ],
      "metadata": {
        "colab": {
          "base_uri": "https://localhost:8080/"
        },
        "id": "QXH5XWo4mbZT",
        "outputId": "0cf46257-f10a-45c4-c11f-1771f120fc2a"
      },
      "execution_count": 2,
      "outputs": [
        {
          "output_type": "stream",
          "name": "stdout",
          "text": [
            "Looking in indexes: https://pypi.org/simple, https://us-python.pkg.dev/colab-wheels/public/simple/\n",
            "Requirement already satisfied: numpy in /usr/local/lib/python3.8/dist-packages (1.22.4)\n",
            "\u001b[33mWARNING: Running pip as the 'root' user can result in broken permissions and conflicting behaviour with the system package manager. It is recommended to use a virtual environment instead: https://pip.pypa.io/warnings/venv\u001b[0m\u001b[33m\n",
            "\u001b[0m"
          ]
        }
      ]
    },
    {
      "cell_type": "code",
      "source": [
        "import numpy as np"
      ],
      "metadata": {
        "id": "tD144JRZmeFa"
      },
      "execution_count": 3,
      "outputs": []
    },
    {
      "cell_type": "markdown",
      "source": [
        "\n",
        "# NumPy array basics\n"
      ],
      "metadata": {
        "id": "-p44q1R1nfUC"
      }
    },
    {
      "cell_type": "code",
      "source": [
        "#Creating NumPy arrays: You can create a NumPy array by passing a list or tuple of values to the np.array() function. For example:\n",
        "import numpy as np\n",
        "\n",
        "a = np.array([1, 2, 3])\n",
        "b = np.array((4, 5, 6))\n"
      ],
      "metadata": {
        "id": "_YUBLJeWngW5"
      },
      "execution_count": null,
      "outputs": []
    },
    {
      "cell_type": "code",
      "source": [
        "#You can also create arrays of zeros or ones using the np.zeros() and np.ones() functions, respectively:\n",
        "c = np.zeros((3, 4))  # Creates a 3x4 array of zeros\n",
        "d = np.ones((2, 3, 4))  # Creates a 2x3x4 array of ones\n"
      ],
      "metadata": {
        "id": "hub_tVLlnpHx"
      },
      "execution_count": null,
      "outputs": []
    },
    {
      "cell_type": "code",
      "source": [
        "#Array attributes: NumPy arrays have several attributes that can provide information about \n",
        "#their shape, size, and data type. Some common attributes include ndim (the number of dimensions), \n",
        "#shape (the shape of the array), and dtype (the data type of the array):\n",
        "print(a.ndim)  # Prints 1\n",
        "print(c.shape)  # Prints (3, 4)\n",
        "print(d.dtype)  # Prints float64\n"
      ],
      "metadata": {
        "id": "HexE5rf6ns1a"
      },
      "execution_count": null,
      "outputs": []
    },
    {
      "cell_type": "code",
      "source": [
        "#Indexing and slicing: You can access individual elements of a NumPy array \n",
        "#using square brackets and the appropriate indices. For multi-dimensional arrays, \n",
        "#you can use a comma-separated tuple of indices. You can also use slicing to extract a subset of the array:\n",
        "print(a[0])  # Prints 1\n",
        "print(c[1, 2])  # Prints 0\n",
        "print(d[1, :, 2:])  # Prints a 2x2 array"
      ],
      "metadata": {
        "id": "8xajE1Cwn03T"
      },
      "execution_count": null,
      "outputs": []
    },
    {
      "cell_type": "code",
      "source": [
        "#Array arithmetic: NumPy arrays support basic arithmetic operations \n",
        "#like addition, subtraction, multiplication, and division. When performing these operations on arrays, NumPy applies the operation element-wise:\n",
        "e = np.array([1, 2, 3])\n",
        "f = np.array([4, 5, 6])\n",
        "\n",
        "print(e + f)  # Prints [5, 7, 9]\n",
        "print(e * f)  # Prints [4, 10, 18]"
      ],
      "metadata": {
        "id": "JtgzIw6in7fh"
      },
      "execution_count": null,
      "outputs": []
    },
    {
      "cell_type": "markdown",
      "source": [
        "# Creating arrays in NumPy\n",
        "\n"
      ],
      "metadata": {
        "id": "6oVDPyVbsDTG"
      }
    },
    {
      "cell_type": "code",
      "source": [
        "#np.array(): You can create an array by passing a list or a tuple to the np.array() function. For example:\n",
        "import numpy as np\n",
        "\n",
        "a = np.array([1, 2, 3])\n",
        "b = np.array((4, 5, 6))\n"
      ],
      "metadata": {
        "id": "RFpzLlhIsErp"
      },
      "execution_count": null,
      "outputs": []
    },
    {
      "cell_type": "code",
      "source": [
        "#You can also pass a nested list or tuple to create a multi-dimensional array:\n",
        "c = np.array([[1, 2, 3], [4, 5, 6], [7, 8, 9]])"
      ],
      "metadata": {
        "id": "hveW1j7RsIzp"
      },
      "execution_count": null,
      "outputs": []
    },
    {
      "cell_type": "code",
      "source": [
        "#np.zeros(): You can create an array filled with zeros using the np.zeros() function. You need to specify the shape of the array as a tuple:\n",
        "d = np.zeros((3, 4))  # Creates a 3x4 array of zeros"
      ],
      "metadata": {
        "id": "tvZfxY48sLZ6"
      },
      "execution_count": null,
      "outputs": []
    },
    {
      "cell_type": "code",
      "source": [
        "#np.ones(): You can create an array filled with ones using the np.ones() function. You need to specify the shape of the array as a tuple:\n",
        "e = np.ones((2, 3, 4))  # Creates a 2x3x4 array of ones"
      ],
      "metadata": {
        "id": "pXKRIN-FsOSc"
      },
      "execution_count": null,
      "outputs": []
    },
    {
      "cell_type": "code",
      "source": [
        "#np.arange(): You can create an array with a range of values using the np.arange() function. \n",
        "#This function works like the built-in range() function, but it returns an array instead of a list. You need to specify the start, stop, and step values:\n",
        "f = np.arange(0, 10, 2)  # Creates an array [0, 2, 4, 6, 8]"
      ],
      "metadata": {
        "id": "nhearWi7sRQi"
      },
      "execution_count": null,
      "outputs": []
    },
    {
      "cell_type": "code",
      "source": [
        "#np.linspace(): You can create an array with a specified number of evenly spaced values using the np.linspace() function. \n",
        "#You need to specify the start, stop, and number of values:\n",
        "g = np.linspace(0, 1, 5)  # Creates an array [0, 0.25, 0.5, 0.75, 1]"
      ],
      "metadata": {
        "id": "pvJ-3gkasVTL"
      },
      "execution_count": null,
      "outputs": []
    },
    {
      "cell_type": "code",
      "source": [
        "#np.random.rand(): You can create an array of random values between 0 and 1 using the np.random.rand() function. \n",
        "#You need to specify the shape of the array as a tuple:\n",
        "h = np.random.rand(3, 4)  # Creates a 3x4 array of random values"
      ],
      "metadata": {
        "id": "rqGnB4qtsZVp"
      },
      "execution_count": null,
      "outputs": []
    },
    {
      "cell_type": "markdown",
      "source": [
        "# Array data types\n"
      ],
      "metadata": {
        "id": "2UlpmdYWsexp"
      }
    },
    {
      "cell_type": "code",
      "source": [
        "#One-dimensional array:\n",
        "int[] numbers = { 1, 2, 3, 4, 5 };\n",
        "string[] names = { \"Alice\", \"Bob\", \"Charlie\", \"David\" };\n"
      ],
      "metadata": {
        "id": "05AN0lT6sjSJ"
      },
      "execution_count": null,
      "outputs": []
    },
    {
      "cell_type": "code",
      "source": [
        "#Multi-dimensional array:\n",
        "int[,] matrix = { {1, 2}, {3, 4}, {5, 6} };\n",
        "float[,] table = { {1.1f, 2.2f}, {3.3f, 4.4f}, {5.5f, 6.6f} };\n"
      ],
      "metadata": {
        "id": "5sI4Sz1TuB-w"
      },
      "execution_count": null,
      "outputs": []
    },
    {
      "cell_type": "code",
      "source": [
        "#Jagged array:\n",
        "int[][] jaggedArray = new int[3][];\n",
        "jaggedArray[0] = new int[] { 1, 2, 3 };\n",
        "jaggedArray[1] = new int[] { 4, 5 };\n",
        "jaggedArray[2] = new int[] { 6, 7, 8, 9 };\n"
      ],
      "metadata": {
        "id": "bqxiFGz1uEyK"
      },
      "execution_count": null,
      "outputs": []
    },
    {
      "cell_type": "code",
      "source": [
        "#Dynamic array:\n",
        "List<int> numbers = new List<int>();\n",
        "numbers.Add(1);\n",
        "numbers.Add(2);\n",
        "numbers.Add(3);\n"
      ],
      "metadata": {
        "id": "ZhFXAD4XuNiq"
      },
      "execution_count": null,
      "outputs": []
    },
    {
      "cell_type": "code",
      "source": [
        "#Associative array:\n",
        "Dictionary<string, int> ages = new Dictionary<string, int>();\n",
        "ages.Add(\"Alice\", 25);\n",
        "ages.Add(\"Bob\", 30);\n",
        "ages.Add(\"Charlie\", 35);\n"
      ],
      "metadata": {
        "id": "hREnPhgfuR3y"
      },
      "execution_count": null,
      "outputs": []
    }
  ]
}